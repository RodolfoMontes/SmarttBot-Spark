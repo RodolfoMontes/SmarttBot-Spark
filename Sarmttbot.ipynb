{
  "nbformat": 4,
  "nbformat_minor": 0,
  "metadata": {
    "colab": {
      "name": "Sarmttbot.ipynb",
      "provenance": [],
      "collapsed_sections": [],
      "authorship_tag": "ABX9TyNgmT3TtZBhUZVtwyHzfqOD",
      "include_colab_link": true
    },
    "kernelspec": {
      "name": "python3",
      "display_name": "Python 3"
    },
    "language_info": {
      "name": "python"
    }
  },
  "cells": [
    {
      "cell_type": "markdown",
      "metadata": {
        "id": "view-in-github",
        "colab_type": "text"
      },
      "source": [
        "<a href=\"https://colab.research.google.com/github/RodolfoMontes/SmarttBot-Spark/blob/main/Sarmttbot.ipynb\" target=\"_parent\"><img src=\"https://colab.research.google.com/assets/colab-badge.svg\" alt=\"Open In Colab\"/></a>"
      ]
    },
    {
      "cell_type": "code",
      "execution_count": 1,
      "metadata": {
        "id": "zoOEhG1YZdEY"
      },
      "outputs": [],
      "source": [
        "# instalar as dependências\n",
        "!apt-get update -qq\n",
        "!apt-get install openjdk-8-jdk-headless -qq > /dev/null\n",
        "!wget -q https://archive.apache.org/dist/spark/spark-3.1.2/spark-3.1.2-bin-hadoop2.7.tgz\n",
        "!tar xf spark-3.1.2-bin-hadoop2.7.tgz\n",
        "!pip install -q findspark"
      ]
    },
    {
      "cell_type": "code",
      "source": [
        "import os\n",
        "os.environ[\"JAVA_HOME\"] = \"/usr/lib/jvm/java-8-openjdk-amd64\"\n",
        "os.environ[\"SPARK_HOME\"] = \"/content/spark-3.1.2-bin-hadoop2.7\""
      ],
      "metadata": {
        "id": "trh5XzD2bzlX"
      },
      "execution_count": 2,
      "outputs": []
    },
    {
      "cell_type": "code",
      "source": [
        "import findspark\n",
        "findspark.init()"
      ],
      "metadata": {
        "id": "WKoPX_OPb-0E"
      },
      "execution_count": 3,
      "outputs": []
    },
    {
      "cell_type": "markdown",
      "source": [
        "## [SparkSession](https://spark.apache.org/docs/latest/api/python/reference/api/pyspark.sql.SparkSession.html)\n",
        "\n",
        "O ponto de entrada para programar o Spark com a API Dataset e DataFrame.\n",
        "\n",
        "Uma SparkSession pode ser utilizada para criar DataFrames, registrar DataFrames como tabelas, executar consultas SQL em tabelas, armazenar em cache e ler arquivos parquet. Para criar uma SparkSession, use o seguinte padrão de construtor:"
      ],
      "metadata": {
        "id": "JAx4EpIoccQD"
      }
    },
    {
      "cell_type": "code",
      "source": [
        "from pyspark.sql import SparkSession\n",
        "\n",
        "spark = SparkSession.builder \\\n",
        "    .master('local[*]') \\\n",
        "    .appName(\"Iniciando com Spark\") \\\n",
        "    .config('spark.ui.port', '4050') \\\n",
        "    .getOrCreate()"
      ],
      "metadata": {
        "id": "47jSHgWvcgoS"
      },
      "execution_count": 4,
      "outputs": []
    },
    {
      "cell_type": "code",
      "source": [
        "spark"
      ],
      "metadata": {
        "colab": {
          "base_uri": "https://localhost:8080/",
          "height": 219
        },
        "id": "nsaSIOP6cs9k",
        "outputId": "e5b3b00b-4f5d-400e-eb0f-17443af241be"
      },
      "execution_count": 5,
      "outputs": [
        {
          "output_type": "execute_result",
          "data": {
            "text/plain": [
              "<pyspark.sql.session.SparkSession at 0x7f8d3c0e3550>"
            ],
            "text/html": [
              "\n",
              "            <div>\n",
              "                <p><b>SparkSession - in-memory</b></p>\n",
              "                \n",
              "        <div>\n",
              "            <p><b>SparkContext</b></p>\n",
              "\n",
              "            <p><a href=\"http://5eee7832aae8:4050\">Spark UI</a></p>\n",
              "\n",
              "            <dl>\n",
              "              <dt>Version</dt>\n",
              "                <dd><code>v3.1.2</code></dd>\n",
              "              <dt>Master</dt>\n",
              "                <dd><code>local[*]</code></dd>\n",
              "              <dt>AppName</dt>\n",
              "                <dd><code>Iniciando com Spark</code></dd>\n",
              "            </dl>\n",
              "        </div>\n",
              "        \n",
              "            </div>\n",
              "        "
            ]
          },
          "metadata": {},
          "execution_count": 5
        }
      ]
    },
    {
      "cell_type": "markdown",
      "source": [
        "[Site ngrok](https://ngrok.com)"
      ],
      "metadata": {
        "id": "XsRNmge8d7hE"
      }
    },
    {
      "cell_type": "code",
      "source": [
        "!wget -q https://bin.equinox.io/c/4VmDzA7iaHb/ngrok-stable-linux-amd64.zip\n",
        "!unzip ngrok-stable-linux-amd64.zip"
      ],
      "metadata": {
        "colab": {
          "base_uri": "https://localhost:8080/"
        },
        "id": "xEX7cnbDd_XH",
        "outputId": "fdec9c67-8f1d-43bf-e179-9d4bf53d362c"
      },
      "execution_count": 6,
      "outputs": [
        {
          "output_type": "stream",
          "name": "stdout",
          "text": [
            "Archive:  ngrok-stable-linux-amd64.zip\n",
            "  inflating: ngrok                   \n"
          ]
        }
      ]
    },
    {
      "cell_type": "code",
      "source": [
        "get_ipython().system_raw('./ngrok http 4050 &')"
      ],
      "metadata": {
        "id": "8QQV4NkgeOzL"
      },
      "execution_count": 7,
      "outputs": []
    },
    {
      "cell_type": "code",
      "source": [
        "!curl -s http://localhost:4040/api/tunnels"
      ],
      "metadata": {
        "colab": {
          "base_uri": "https://localhost:8080/"
        },
        "id": "wszsTAmYeTOK",
        "outputId": "76683920-e2bd-4c1c-9b40-75373a59847c"
      },
      "execution_count": 8,
      "outputs": [
        {
          "output_type": "stream",
          "name": "stdout",
          "text": [
            "{\"tunnels\":[{\"name\":\"command_line (http)\",\"uri\":\"/api/tunnels/command_line%20%28http%29\",\"public_url\":\"http://d261-34-66-69-106.ngrok.io\",\"proto\":\"http\",\"config\":{\"addr\":\"http://localhost:4050\",\"inspect\":true},\"metrics\":{\"conns\":{\"count\":0,\"gauge\":0,\"rate1\":0,\"rate5\":0,\"rate15\":0,\"p50\":0,\"p90\":0,\"p95\":0,\"p99\":0},\"http\":{\"count\":0,\"rate1\":0,\"rate5\":0,\"rate15\":0,\"p50\":0,\"p90\":0,\"p95\":0,\"p99\":0}}},{\"name\":\"command_line\",\"uri\":\"/api/tunnels/command_line\",\"public_url\":\"https://d261-34-66-69-106.ngrok.io\",\"proto\":\"https\",\"config\":{\"addr\":\"http://localhost:4050\",\"inspect\":true},\"metrics\":{\"conns\":{\"count\":0,\"gauge\":0,\"rate1\":0,\"rate5\":0,\"rate15\":0,\"p50\":0,\"p90\":0,\"p95\":0,\"p99\":0},\"http\":{\"count\":0,\"rate1\":0,\"rate5\":0,\"rate15\":0,\"p50\":0,\"p90\":0,\"p95\":0,\"p99\":0}}}],\"uri\":\"/api/tunnels\"}\n"
          ]
        }
      ]
    },
    {
      "cell_type": "code",
      "source": [
        "spark"
      ],
      "metadata": {
        "colab": {
          "base_uri": "https://localhost:8080/",
          "height": 219
        },
        "id": "UAxg4oOBeXt5",
        "outputId": "e701a3ce-7612-47a5-aaeb-4668b883b9c5"
      },
      "execution_count": 9,
      "outputs": [
        {
          "output_type": "execute_result",
          "data": {
            "text/plain": [
              "<pyspark.sql.session.SparkSession at 0x7f8d3c0e3550>"
            ],
            "text/html": [
              "\n",
              "            <div>\n",
              "                <p><b>SparkSession - in-memory</b></p>\n",
              "                \n",
              "        <div>\n",
              "            <p><b>SparkContext</b></p>\n",
              "\n",
              "            <p><a href=\"http://5eee7832aae8:4050\">Spark UI</a></p>\n",
              "\n",
              "            <dl>\n",
              "              <dt>Version</dt>\n",
              "                <dd><code>v3.1.2</code></dd>\n",
              "              <dt>Master</dt>\n",
              "                <dd><code>local[*]</code></dd>\n",
              "              <dt>AppName</dt>\n",
              "                <dd><code>Iniciando com Spark</code></dd>\n",
              "            </dl>\n",
              "        </div>\n",
              "        \n",
              "            </div>\n",
              "        "
            ]
          },
          "metadata": {},
          "execution_count": 9
        }
      ]
    },
    {
      "cell_type": "markdown",
      "source": [
        "### Montando nosso drive"
      ],
      "metadata": {
        "id": "ttM3fjrqlAaV"
      }
    },
    {
      "cell_type": "code",
      "source": [
        "from google.colab import drive\n",
        "drive.mount('/content/drive')"
      ],
      "metadata": {
        "colab": {
          "base_uri": "https://localhost:8080/"
        },
        "id": "bWeAzQezlY6Q",
        "outputId": "2e9c74d1-1182-4323-b838-50a9561028ce"
      },
      "execution_count": 10,
      "outputs": [
        {
          "output_type": "stream",
          "name": "stdout",
          "text": [
            "Mounted at /content/drive\n"
          ]
        }
      ]
    },
    {
      "cell_type": "markdown",
      "source": [
        "### Carregando os dados"
      ],
      "metadata": {
        "id": "a9IUUHhyzctE"
      }
    },
    {
      "cell_type": "code",
      "source": [
        "person_person = spark.read.options(header=True).csv('/content/drive/MyDrive/SmarttBot-Spark/Person_Person.csv', sep=';', inferSchema=True)\n",
        "production_product = spark.read.options(header=True).csv('/content/drive/MyDrive/SmarttBot-Spark/Production_Product.csv', sep=';', inferSchema=True)\n",
        "sales_customer = spark.read.options(header=True).csv('/content/drive/MyDrive/SmarttBot-Spark/Sales_Customer.csv', sep=';', inferSchema=True)\n",
        "sales_salesorderdetail = spark.read.options(header=True).csv('/content/drive/MyDrive/SmarttBot-Spark/Sales_SalesOrderDetail.csv', sep=';', inferSchema=True)\n",
        "sales_salesorderheader = spark.read.options(header=True).csv('/content/drive/MyDrive/SmarttBot-Spark/Sales_SalesOrderHeader.csv', sep=';', inferSchema=True)\n",
        "sales_specialofferproduct = spark.read.options(header=True).csv('/content/drive/MyDrive/SmarttBot-Spark/Sales_SpecialOfferProduct.csv', sep=';', inferSchema=True)"
      ],
      "metadata": {
        "id": "oor42y4Utcmx"
      },
      "execution_count": 25,
      "outputs": []
    },
    {
      "cell_type": "markdown",
      "source": [
        "##1 - Escreva uma query que retorna a quantidade de linhas na tabela Sales.SalesOrderDetail pelo campo SalesOrderID, desde que tenham pelo menos três linhas de detalhes."
      ],
      "metadata": {
        "id": "g-1H4Le6AxYN"
      }
    },
    {
      "cell_type": "code",
      "source": [
        "person_person.limit(5).toPandas()"
      ],
      "metadata": {
        "colab": {
          "base_uri": "https://localhost:8080/",
          "height": 531
        },
        "id": "71TdVE5YySTX",
        "outputId": "9af5a44d-13bd-41a7-8584-aec3c6368864"
      },
      "execution_count": 35,
      "outputs": [
        {
          "output_type": "execute_result",
          "data": {
            "text/plain": [
              "   BusinessEntityID PersonType  NameStyle Title FirstName MiddleName  \\\n",
              "0                 1         EM          0  NULL       Ken          J   \n",
              "1                 2         EM          0  NULL     Terri        Lee   \n",
              "2                 3         EM          0  NULL   Roberto       NULL   \n",
              "3                 4         EM          0  NULL       Rob       NULL   \n",
              "4                 5         EM          0   Ms.      Gail          A   \n",
              "\n",
              "     LastName Suffix  EmailPromotion AdditionalContactInfo  \\\n",
              "0     Sánchez   NULL               0                  NULL   \n",
              "1       Duffy   NULL               1                  NULL   \n",
              "2  Tamburello   NULL               0                  NULL   \n",
              "3     Walters   NULL               0                  NULL   \n",
              "4    Erickson   NULL               0                  NULL   \n",
              "\n",
              "                                        Demographics  \\\n",
              "0  \"<IndividualSurvey xmlns=\"\"http://schemas.micr...   \n",
              "1  \"<IndividualSurvey xmlns=\"\"http://schemas.micr...   \n",
              "2  \"<IndividualSurvey xmlns=\"\"http://schemas.micr...   \n",
              "3  \"<IndividualSurvey xmlns=\"\"http://schemas.micr...   \n",
              "4  \"<IndividualSurvey xmlns=\"\"http://schemas.micr...   \n",
              "\n",
              "                                rowguid             ModifiedDate  \n",
              "0  92C4279F-1207-48A3-8448-4636514EB7E2  2009-01-07 00:00:00.000  \n",
              "1  D8763459-8AA8-47CC-AFF7-C9079AF79033  2008-01-24 00:00:00.000  \n",
              "2  E1A2555E-0828-434B-A33B-6F38136A37DE  2007-11-04 00:00:00.000  \n",
              "3  F2D7CE06-38B3-4357-805B-F4B6B71C01FF  2007-11-28 00:00:00.000  \n",
              "4  F3A3F6B4-AE3B-430C-A754-9F2231BA6FEF  2007-12-30 00:00:00.000  "
            ],
            "text/html": [
              "\n",
              "  <div id=\"df-c453baad-85c8-40cb-ab6c-f6a6212459e2\">\n",
              "    <div class=\"colab-df-container\">\n",
              "      <div>\n",
              "<style scoped>\n",
              "    .dataframe tbody tr th:only-of-type {\n",
              "        vertical-align: middle;\n",
              "    }\n",
              "\n",
              "    .dataframe tbody tr th {\n",
              "        vertical-align: top;\n",
              "    }\n",
              "\n",
              "    .dataframe thead th {\n",
              "        text-align: right;\n",
              "    }\n",
              "</style>\n",
              "<table border=\"1\" class=\"dataframe\">\n",
              "  <thead>\n",
              "    <tr style=\"text-align: right;\">\n",
              "      <th></th>\n",
              "      <th>BusinessEntityID</th>\n",
              "      <th>PersonType</th>\n",
              "      <th>NameStyle</th>\n",
              "      <th>Title</th>\n",
              "      <th>FirstName</th>\n",
              "      <th>MiddleName</th>\n",
              "      <th>LastName</th>\n",
              "      <th>Suffix</th>\n",
              "      <th>EmailPromotion</th>\n",
              "      <th>AdditionalContactInfo</th>\n",
              "      <th>Demographics</th>\n",
              "      <th>rowguid</th>\n",
              "      <th>ModifiedDate</th>\n",
              "    </tr>\n",
              "  </thead>\n",
              "  <tbody>\n",
              "    <tr>\n",
              "      <th>0</th>\n",
              "      <td>1</td>\n",
              "      <td>EM</td>\n",
              "      <td>0</td>\n",
              "      <td>NULL</td>\n",
              "      <td>Ken</td>\n",
              "      <td>J</td>\n",
              "      <td>Sánchez</td>\n",
              "      <td>NULL</td>\n",
              "      <td>0</td>\n",
              "      <td>NULL</td>\n",
              "      <td>\"&lt;IndividualSurvey xmlns=\"\"http://schemas.micr...</td>\n",
              "      <td>92C4279F-1207-48A3-8448-4636514EB7E2</td>\n",
              "      <td>2009-01-07 00:00:00.000</td>\n",
              "    </tr>\n",
              "    <tr>\n",
              "      <th>1</th>\n",
              "      <td>2</td>\n",
              "      <td>EM</td>\n",
              "      <td>0</td>\n",
              "      <td>NULL</td>\n",
              "      <td>Terri</td>\n",
              "      <td>Lee</td>\n",
              "      <td>Duffy</td>\n",
              "      <td>NULL</td>\n",
              "      <td>1</td>\n",
              "      <td>NULL</td>\n",
              "      <td>\"&lt;IndividualSurvey xmlns=\"\"http://schemas.micr...</td>\n",
              "      <td>D8763459-8AA8-47CC-AFF7-C9079AF79033</td>\n",
              "      <td>2008-01-24 00:00:00.000</td>\n",
              "    </tr>\n",
              "    <tr>\n",
              "      <th>2</th>\n",
              "      <td>3</td>\n",
              "      <td>EM</td>\n",
              "      <td>0</td>\n",
              "      <td>NULL</td>\n",
              "      <td>Roberto</td>\n",
              "      <td>NULL</td>\n",
              "      <td>Tamburello</td>\n",
              "      <td>NULL</td>\n",
              "      <td>0</td>\n",
              "      <td>NULL</td>\n",
              "      <td>\"&lt;IndividualSurvey xmlns=\"\"http://schemas.micr...</td>\n",
              "      <td>E1A2555E-0828-434B-A33B-6F38136A37DE</td>\n",
              "      <td>2007-11-04 00:00:00.000</td>\n",
              "    </tr>\n",
              "    <tr>\n",
              "      <th>3</th>\n",
              "      <td>4</td>\n",
              "      <td>EM</td>\n",
              "      <td>0</td>\n",
              "      <td>NULL</td>\n",
              "      <td>Rob</td>\n",
              "      <td>NULL</td>\n",
              "      <td>Walters</td>\n",
              "      <td>NULL</td>\n",
              "      <td>0</td>\n",
              "      <td>NULL</td>\n",
              "      <td>\"&lt;IndividualSurvey xmlns=\"\"http://schemas.micr...</td>\n",
              "      <td>F2D7CE06-38B3-4357-805B-F4B6B71C01FF</td>\n",
              "      <td>2007-11-28 00:00:00.000</td>\n",
              "    </tr>\n",
              "    <tr>\n",
              "      <th>4</th>\n",
              "      <td>5</td>\n",
              "      <td>EM</td>\n",
              "      <td>0</td>\n",
              "      <td>Ms.</td>\n",
              "      <td>Gail</td>\n",
              "      <td>A</td>\n",
              "      <td>Erickson</td>\n",
              "      <td>NULL</td>\n",
              "      <td>0</td>\n",
              "      <td>NULL</td>\n",
              "      <td>\"&lt;IndividualSurvey xmlns=\"\"http://schemas.micr...</td>\n",
              "      <td>F3A3F6B4-AE3B-430C-A754-9F2231BA6FEF</td>\n",
              "      <td>2007-12-30 00:00:00.000</td>\n",
              "    </tr>\n",
              "  </tbody>\n",
              "</table>\n",
              "</div>\n",
              "      <button class=\"colab-df-convert\" onclick=\"convertToInteractive('df-c453baad-85c8-40cb-ab6c-f6a6212459e2')\"\n",
              "              title=\"Convert this dataframe to an interactive table.\"\n",
              "              style=\"display:none;\">\n",
              "        \n",
              "  <svg xmlns=\"http://www.w3.org/2000/svg\" height=\"24px\"viewBox=\"0 0 24 24\"\n",
              "       width=\"24px\">\n",
              "    <path d=\"M0 0h24v24H0V0z\" fill=\"none\"/>\n",
              "    <path d=\"M18.56 5.44l.94 2.06.94-2.06 2.06-.94-2.06-.94-.94-2.06-.94 2.06-2.06.94zm-11 1L8.5 8.5l.94-2.06 2.06-.94-2.06-.94L8.5 2.5l-.94 2.06-2.06.94zm10 10l.94 2.06.94-2.06 2.06-.94-2.06-.94-.94-2.06-.94 2.06-2.06.94z\"/><path d=\"M17.41 7.96l-1.37-1.37c-.4-.4-.92-.59-1.43-.59-.52 0-1.04.2-1.43.59L10.3 9.45l-7.72 7.72c-.78.78-.78 2.05 0 2.83L4 21.41c.39.39.9.59 1.41.59.51 0 1.02-.2 1.41-.59l7.78-7.78 2.81-2.81c.8-.78.8-2.07 0-2.86zM5.41 20L4 18.59l7.72-7.72 1.47 1.35L5.41 20z\"/>\n",
              "  </svg>\n",
              "      </button>\n",
              "      \n",
              "  <style>\n",
              "    .colab-df-container {\n",
              "      display:flex;\n",
              "      flex-wrap:wrap;\n",
              "      gap: 12px;\n",
              "    }\n",
              "\n",
              "    .colab-df-convert {\n",
              "      background-color: #E8F0FE;\n",
              "      border: none;\n",
              "      border-radius: 50%;\n",
              "      cursor: pointer;\n",
              "      display: none;\n",
              "      fill: #1967D2;\n",
              "      height: 32px;\n",
              "      padding: 0 0 0 0;\n",
              "      width: 32px;\n",
              "    }\n",
              "\n",
              "    .colab-df-convert:hover {\n",
              "      background-color: #E2EBFA;\n",
              "      box-shadow: 0px 1px 2px rgba(60, 64, 67, 0.3), 0px 1px 3px 1px rgba(60, 64, 67, 0.15);\n",
              "      fill: #174EA6;\n",
              "    }\n",
              "\n",
              "    [theme=dark] .colab-df-convert {\n",
              "      background-color: #3B4455;\n",
              "      fill: #D2E3FC;\n",
              "    }\n",
              "\n",
              "    [theme=dark] .colab-df-convert:hover {\n",
              "      background-color: #434B5C;\n",
              "      box-shadow: 0px 1px 3px 1px rgba(0, 0, 0, 0.15);\n",
              "      filter: drop-shadow(0px 1px 2px rgba(0, 0, 0, 0.3));\n",
              "      fill: #FFFFFF;\n",
              "    }\n",
              "  </style>\n",
              "\n",
              "      <script>\n",
              "        const buttonEl =\n",
              "          document.querySelector('#df-c453baad-85c8-40cb-ab6c-f6a6212459e2 button.colab-df-convert');\n",
              "        buttonEl.style.display =\n",
              "          google.colab.kernel.accessAllowed ? 'block' : 'none';\n",
              "\n",
              "        async function convertToInteractive(key) {\n",
              "          const element = document.querySelector('#df-c453baad-85c8-40cb-ab6c-f6a6212459e2');\n",
              "          const dataTable =\n",
              "            await google.colab.kernel.invokeFunction('convertToInteractive',\n",
              "                                                     [key], {});\n",
              "          if (!dataTable) return;\n",
              "\n",
              "          const docLinkHtml = 'Like what you see? Visit the ' +\n",
              "            '<a target=\"_blank\" href=https://colab.research.google.com/notebooks/data_table.ipynb>data table notebook</a>'\n",
              "            + ' to learn more about interactive tables.';\n",
              "          element.innerHTML = '';\n",
              "          dataTable['output_type'] = 'display_data';\n",
              "          await google.colab.output.renderOutput(dataTable, element);\n",
              "          const docLink = document.createElement('div');\n",
              "          docLink.innerHTML = docLinkHtml;\n",
              "          element.appendChild(docLink);\n",
              "        }\n",
              "      </script>\n",
              "    </div>\n",
              "  </div>\n",
              "  "
            ]
          },
          "metadata": {},
          "execution_count": 35
        }
      ]
    },
    {
      "cell_type": "code",
      "source": [
        "person_person.printSchema()"
      ],
      "metadata": {
        "colab": {
          "base_uri": "https://localhost:8080/"
        },
        "id": "Gxuq46vzCem0",
        "outputId": "986612cf-1bd9-4575-f84a-d5d802f0825e"
      },
      "execution_count": 36,
      "outputs": [
        {
          "output_type": "stream",
          "name": "stdout",
          "text": [
            "root\n",
            " |-- BusinessEntityID: integer (nullable = true)\n",
            " |-- PersonType: string (nullable = true)\n",
            " |-- NameStyle: integer (nullable = true)\n",
            " |-- Title: string (nullable = true)\n",
            " |-- FirstName: string (nullable = true)\n",
            " |-- MiddleName: string (nullable = true)\n",
            " |-- LastName: string (nullable = true)\n",
            " |-- Suffix: string (nullable = true)\n",
            " |-- EmailPromotion: integer (nullable = true)\n",
            " |-- AdditionalContactInfo: string (nullable = true)\n",
            " |-- Demographics: string (nullable = true)\n",
            " |-- rowguid: string (nullable = true)\n",
            " |-- ModifiedDate: string (nullable = true)\n",
            "\n"
          ]
        }
      ]
    },
    {
      "cell_type": "code",
      "source": [
        "production_product.printSchema()"
      ],
      "metadata": {
        "colab": {
          "base_uri": "https://localhost:8080/"
        },
        "id": "pWngBePqCvy5",
        "outputId": "0948501f-76dc-4a70-c31f-159b85a0d5e4"
      },
      "execution_count": 37,
      "outputs": [
        {
          "output_type": "stream",
          "name": "stdout",
          "text": [
            "root\n",
            " |-- ProductID: integer (nullable = true)\n",
            " |-- Name: string (nullable = true)\n",
            " |-- ProductNumber: string (nullable = true)\n",
            " |-- MakeFlag: integer (nullable = true)\n",
            " |-- FinishedGoodsFlag: integer (nullable = true)\n",
            " |-- Color: string (nullable = true)\n",
            " |-- SafetyStockLevel: integer (nullable = true)\n",
            " |-- ReorderPoint: integer (nullable = true)\n",
            " |-- StandardCost: string (nullable = true)\n",
            " |-- ListPrice: string (nullable = true)\n",
            " |-- Size: string (nullable = true)\n",
            " |-- SizeUnitMeasureCode: string (nullable = true)\n",
            " |-- WeightUnitMeasureCode: string (nullable = true)\n",
            " |-- Weight: string (nullable = true)\n",
            " |-- DaysToManufacture: integer (nullable = true)\n",
            " |-- ProductLine: string (nullable = true)\n",
            " |-- Class: string (nullable = true)\n",
            " |-- Style: string (nullable = true)\n",
            " |-- ProductSubcategoryID: string (nullable = true)\n",
            " |-- ProductModelID: string (nullable = true)\n",
            " |-- SellStartDate: string (nullable = true)\n",
            " |-- SellEndDate: string (nullable = true)\n",
            " |-- DiscontinuedDate: string (nullable = true)\n",
            " |-- rowguid: string (nullable = true)\n",
            " |-- ModifiedDate: string (nullable = true)\n",
            "\n"
          ]
        }
      ]
    }
  ]
}